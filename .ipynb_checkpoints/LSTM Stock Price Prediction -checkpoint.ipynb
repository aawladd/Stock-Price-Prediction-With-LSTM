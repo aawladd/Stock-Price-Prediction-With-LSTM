{
 "cells": [
  {
   "cell_type": "code",
   "execution_count": 14,
   "id": "4a16e4bd",
   "metadata": {},
   "outputs": [
    {
     "data": {
      "text/plain": [
       "'2.10.1'"
      ]
     },
     "execution_count": 14,
     "metadata": {},
     "output_type": "execute_result"
    }
   ],
   "source": [
    "import numpy as np\n",
    "import pandas as pd \n",
    "import matplotlib.pyplot as plt\n",
    "%matplotlib inline\n",
    "from sklearn.preprocessing import MinMaxScaler\n",
    "from tensorflow.keras.models import Sequential, load_model\n",
    "from tensorflow.keras.layers import LSTM, Dense, Dropout\n",
    "import os \n",
    "import tensorflow as tf \n",
    "tf.__version__"
   ]
  },
  {
   "cell_type": "code",
   "execution_count": 15,
   "id": "3d52ead5",
   "metadata": {},
   "outputs": [],
   "source": [
    "df = pd.read_csv('2.1 AAPL.csv')"
   ]
  },
  {
   "cell_type": "code",
   "execution_count": 16,
   "id": "12d2749f",
   "metadata": {},
   "outputs": [
    {
     "data": {
      "text/html": [
       "<div>\n",
       "<style scoped>\n",
       "    .dataframe tbody tr th:only-of-type {\n",
       "        vertical-align: middle;\n",
       "    }\n",
       "\n",
       "    .dataframe tbody tr th {\n",
       "        vertical-align: top;\n",
       "    }\n",
       "\n",
       "    .dataframe thead th {\n",
       "        text-align: right;\n",
       "    }\n",
       "</style>\n",
       "<table border=\"1\" class=\"dataframe\">\n",
       "  <thead>\n",
       "    <tr style=\"text-align: right;\">\n",
       "      <th></th>\n",
       "      <th>date</th>\n",
       "      <th>open</th>\n",
       "      <th>high</th>\n",
       "      <th>low</th>\n",
       "      <th>close</th>\n",
       "      <th>volume</th>\n",
       "      <th>Name</th>\n",
       "    </tr>\n",
       "  </thead>\n",
       "  <tbody>\n",
       "    <tr>\n",
       "      <th>0</th>\n",
       "      <td>2013-02-08</td>\n",
       "      <td>67.7142</td>\n",
       "      <td>68.4014</td>\n",
       "      <td>66.8928</td>\n",
       "      <td>67.8542</td>\n",
       "      <td>158168416</td>\n",
       "      <td>AAPL</td>\n",
       "    </tr>\n",
       "    <tr>\n",
       "      <th>1</th>\n",
       "      <td>2013-02-11</td>\n",
       "      <td>68.0714</td>\n",
       "      <td>69.2771</td>\n",
       "      <td>67.6071</td>\n",
       "      <td>68.5614</td>\n",
       "      <td>129029425</td>\n",
       "      <td>AAPL</td>\n",
       "    </tr>\n",
       "    <tr>\n",
       "      <th>2</th>\n",
       "      <td>2013-02-12</td>\n",
       "      <td>68.5014</td>\n",
       "      <td>68.9114</td>\n",
       "      <td>66.8205</td>\n",
       "      <td>66.8428</td>\n",
       "      <td>151829363</td>\n",
       "      <td>AAPL</td>\n",
       "    </tr>\n",
       "    <tr>\n",
       "      <th>3</th>\n",
       "      <td>2013-02-13</td>\n",
       "      <td>66.7442</td>\n",
       "      <td>67.6628</td>\n",
       "      <td>66.1742</td>\n",
       "      <td>66.7156</td>\n",
       "      <td>118721995</td>\n",
       "      <td>AAPL</td>\n",
       "    </tr>\n",
       "    <tr>\n",
       "      <th>4</th>\n",
       "      <td>2013-02-14</td>\n",
       "      <td>66.3599</td>\n",
       "      <td>67.3771</td>\n",
       "      <td>66.2885</td>\n",
       "      <td>66.6556</td>\n",
       "      <td>88809154</td>\n",
       "      <td>AAPL</td>\n",
       "    </tr>\n",
       "  </tbody>\n",
       "</table>\n",
       "</div>"
      ],
      "text/plain": [
       "         date     open     high      low    close     volume  Name\n",
       "0  2013-02-08  67.7142  68.4014  66.8928  67.8542  158168416  AAPL\n",
       "1  2013-02-11  68.0714  69.2771  67.6071  68.5614  129029425  AAPL\n",
       "2  2013-02-12  68.5014  68.9114  66.8205  66.8428  151829363  AAPL\n",
       "3  2013-02-13  66.7442  67.6628  66.1742  66.7156  118721995  AAPL\n",
       "4  2013-02-14  66.3599  67.3771  66.2885  66.6556   88809154  AAPL"
      ]
     },
     "execution_count": 16,
     "metadata": {},
     "output_type": "execute_result"
    }
   ],
   "source": [
    "df.head()"
   ]
  },
  {
   "cell_type": "code",
   "execution_count": 20,
   "id": "b99911a1",
   "metadata": {},
   "outputs": [],
   "source": [
    "df = df['open'].values\n",
    "df = df.reshape(-1,1)"
   ]
  },
  {
   "cell_type": "code",
   "execution_count": 23,
   "id": "4d520b40",
   "metadata": {},
   "outputs": [],
   "source": [
    "dataset_train = np.array(df[:int(df.shape[0]*0.8)])\n",
    "dataset_test = np.array(df[int(df.shape[0]*0.8) - 50: ])"
   ]
  },
  {
   "cell_type": "code",
   "execution_count": 24,
   "id": "9834b787",
   "metadata": {},
   "outputs": [
    {
     "name": "stdout",
     "output_type": "stream",
     "text": [
      "(1007, 1)\n",
      "(302, 1)\n"
     ]
    }
   ],
   "source": [
    "print(dataset_train.shape)\n",
    "print(dataset_test.shape)"
   ]
  },
  {
   "cell_type": "code",
   "execution_count": 25,
   "id": "01bf3aad",
   "metadata": {},
   "outputs": [
    {
     "data": {
      "text/plain": [
       "array([[0.15550899],\n",
       "       [0.16002875],\n",
       "       [0.16546966],\n",
       "       [0.1432353 ],\n",
       "       [0.13837263],\n",
       "       [0.14619996],\n",
       "       [0.1321915 ]])"
      ]
     },
     "execution_count": 25,
     "metadata": {},
     "output_type": "execute_result"
    }
   ],
   "source": [
    "scaler = MinMaxScaler(feature_range=(0,1))\n",
    "dataset_train = scaler.fit_transform(dataset_train)\n",
    "dataset_train[:7]"
   ]
  },
  {
   "cell_type": "code",
   "execution_count": 27,
   "id": "8566b2d9",
   "metadata": {},
   "outputs": [
    {
     "data": {
      "text/plain": [
       "array([[0.7048619 ],\n",
       "       [0.70865789],\n",
       "       [0.70043325],\n",
       "       [0.71080895],\n",
       "       [0.69518213],\n",
       "       [0.68006144],\n",
       "       [0.69056368],\n",
       "       [0.68423703]])"
      ]
     },
     "execution_count": 27,
     "metadata": {},
     "output_type": "execute_result"
    }
   ],
   "source": [
    "dataset_test = scaler.transform(dataset_test)\n",
    "dataset_test[:8]"
   ]
  },
  {
   "cell_type": "code",
   "execution_count": 43,
   "id": "8d098f7b",
   "metadata": {},
   "outputs": [],
   "source": [
    "def create_my_dataset(df):\n",
    "    x = []\n",
    "    y = []\n",
    "    \n",
    "    for i in range(50, df.shape[0]):\n",
    "        x.append(df[i-50:i,0])\n",
    "        y.append(df[i,0])\n",
    "        \n",
    "    x = np.array(x)\n",
    "    y = np.array(y)\n",
    "    return x, y"
   ]
  },
  {
   "cell_type": "code",
   "execution_count": 46,
   "id": "4d889615",
   "metadata": {},
   "outputs": [],
   "source": [
    "x_train, y_train = create_my_dataset(dataset_train)"
   ]
  },
  {
   "cell_type": "code",
   "execution_count": 48,
   "id": "20852361",
   "metadata": {},
   "outputs": [],
   "source": [
    "x_test, y_test = create_my_dataset(dataset_test)"
   ]
  },
  {
   "cell_type": "code",
   "execution_count": 49,
   "id": "596bfbb3",
   "metadata": {},
   "outputs": [
    {
     "data": {
      "text/plain": [
       "(252, 50)"
      ]
     },
     "execution_count": 49,
     "metadata": {},
     "output_type": "execute_result"
    }
   ],
   "source": [
    "x_test.shape"
   ]
  },
  {
   "cell_type": "code",
   "execution_count": 61,
   "id": "5e6cbb7a",
   "metadata": {},
   "outputs": [],
   "source": [
    "x_train = np.reshape(x_train,(x_train.shape[0],x_train.shape[1],1))\n",
    "x_test = np.reshape(x_test,(x_test.shape[0], x_test.shape[1],1))"
   ]
  },
  {
   "cell_type": "code",
   "execution_count": 54,
   "id": "4f963657",
   "metadata": {},
   "outputs": [],
   "source": [
    "model = Sequential()\n",
    "model.add(LSTM(units = 96, return_sequences = True, input_shape = (x_train.shape[1], 1)))\n",
    "model.add(Dropout(0.2))\n",
    "model.add(LSTM(units = 96, return_sequences = True))\n",
    "model.add(Dropout(0.2))\n",
    "model.add(LSTM(units = 96))\n",
    "model.add(Dropout(0.2))\n",
    "model.add(Dense(units = 1))"
   ]
  },
  {
   "cell_type": "code",
   "execution_count": 55,
   "id": "9377e254",
   "metadata": {},
   "outputs": [
    {
     "name": "stdout",
     "output_type": "stream",
     "text": [
      "Model: \"sequential_4\"\n",
      "_________________________________________________________________\n",
      " Layer (type)                Output Shape              Param #   \n",
      "=================================================================\n",
      " lstm_6 (LSTM)               (None, 50, 96)            37632     \n",
      "                                                                 \n",
      " dropout_3 (Dropout)         (None, 50, 96)            0         \n",
      "                                                                 \n",
      " lstm_7 (LSTM)               (None, 50, 96)            74112     \n",
      "                                                                 \n",
      " dropout_4 (Dropout)         (None, 50, 96)            0         \n",
      "                                                                 \n",
      " lstm_8 (LSTM)               (None, 96)                74112     \n",
      "                                                                 \n",
      " dropout_5 (Dropout)         (None, 96)                0         \n",
      "                                                                 \n",
      " dense (Dense)               (None, 1)                 97        \n",
      "                                                                 \n",
      "=================================================================\n",
      "Total params: 185,953\n",
      "Trainable params: 185,953\n",
      "Non-trainable params: 0\n",
      "_________________________________________________________________\n"
     ]
    }
   ],
   "source": [
    "model.summary()"
   ]
  },
  {
   "cell_type": "code",
   "execution_count": 56,
   "id": "3ce9b37a",
   "metadata": {},
   "outputs": [],
   "source": [
    "model.compile(loss = 'mean_squared_error', optimizer='adam')"
   ]
  },
  {
   "cell_type": "code",
   "execution_count": 57,
   "id": "eb06ee9b",
   "metadata": {},
   "outputs": [
    {
     "name": "stdout",
     "output_type": "stream",
     "text": [
      "Epoch 1/50\n",
      "30/30 [==============================] - 7s 21ms/step - loss: 0.0375\n",
      "Epoch 2/50\n",
      "30/30 [==============================] - 0s 15ms/step - loss: 0.0058\n",
      "Epoch 3/50\n",
      "30/30 [==============================] - 0s 15ms/step - loss: 0.0044\n",
      "Epoch 4/50\n",
      "30/30 [==============================] - 0s 14ms/step - loss: 0.0046\n",
      "Epoch 5/50\n",
      "30/30 [==============================] - 0s 15ms/step - loss: 0.0044\n",
      "Epoch 6/50\n",
      "30/30 [==============================] - 0s 15ms/step - loss: 0.0042\n",
      "Epoch 7/50\n",
      "30/30 [==============================] - 0s 15ms/step - loss: 0.0039\n",
      "Epoch 8/50\n",
      "30/30 [==============================] - 0s 14ms/step - loss: 0.0051\n",
      "Epoch 9/50\n",
      "30/30 [==============================] - 0s 15ms/step - loss: 0.0042\n",
      "Epoch 10/50\n",
      "30/30 [==============================] - 0s 14ms/step - loss: 0.0037\n",
      "Epoch 11/50\n",
      "30/30 [==============================] - 0s 15ms/step - loss: 0.0037\n",
      "Epoch 12/50\n",
      "30/30 [==============================] - 0s 14ms/step - loss: 0.0031\n",
      "Epoch 13/50\n",
      "30/30 [==============================] - 0s 15ms/step - loss: 0.0037\n",
      "Epoch 14/50\n",
      "30/30 [==============================] - 0s 15ms/step - loss: 0.0040\n",
      "Epoch 15/50\n",
      "30/30 [==============================] - 0s 14ms/step - loss: 0.0038\n",
      "Epoch 16/50\n",
      "30/30 [==============================] - 0s 15ms/step - loss: 0.0031\n",
      "Epoch 17/50\n",
      "30/30 [==============================] - 0s 14ms/step - loss: 0.0033\n",
      "Epoch 18/50\n",
      "30/30 [==============================] - 0s 14ms/step - loss: 0.0034\n",
      "Epoch 19/50\n",
      "30/30 [==============================] - 0s 14ms/step - loss: 0.0031\n",
      "Epoch 20/50\n",
      "30/30 [==============================] - 0s 15ms/step - loss: 0.0030\n",
      "Epoch 21/50\n",
      "30/30 [==============================] - 0s 14ms/step - loss: 0.0029\n",
      "Epoch 22/50\n",
      "30/30 [==============================] - 0s 15ms/step - loss: 0.0031\n",
      "Epoch 23/50\n",
      "30/30 [==============================] - 0s 14ms/step - loss: 0.0029\n",
      "Epoch 24/50\n",
      "30/30 [==============================] - 0s 15ms/step - loss: 0.0030\n",
      "Epoch 25/50\n",
      "30/30 [==============================] - 0s 14ms/step - loss: 0.0028\n",
      "Epoch 26/50\n",
      "30/30 [==============================] - 0s 15ms/step - loss: 0.0032\n",
      "Epoch 27/50\n",
      "30/30 [==============================] - 0s 14ms/step - loss: 0.0026\n",
      "Epoch 28/50\n",
      "30/30 [==============================] - 0s 14ms/step - loss: 0.0029\n",
      "Epoch 29/50\n",
      "30/30 [==============================] - 0s 15ms/step - loss: 0.0025\n",
      "Epoch 30/50\n",
      "30/30 [==============================] - 0s 15ms/step - loss: 0.0024\n",
      "Epoch 31/50\n",
      "30/30 [==============================] - 0s 14ms/step - loss: 0.0025\n",
      "Epoch 32/50\n",
      "30/30 [==============================] - 0s 14ms/step - loss: 0.0030\n",
      "Epoch 33/50\n",
      "30/30 [==============================] - 0s 14ms/step - loss: 0.0027\n",
      "Epoch 34/50\n",
      "30/30 [==============================] - 0s 15ms/step - loss: 0.0025\n",
      "Epoch 35/50\n",
      "30/30 [==============================] - 0s 14ms/step - loss: 0.0025\n",
      "Epoch 36/50\n",
      "30/30 [==============================] - 0s 15ms/step - loss: 0.0028\n",
      "Epoch 37/50\n",
      "30/30 [==============================] - 0s 15ms/step - loss: 0.0031\n",
      "Epoch 38/50\n",
      "30/30 [==============================] - 0s 15ms/step - loss: 0.0026\n",
      "Epoch 39/50\n",
      "30/30 [==============================] - 0s 14ms/step - loss: 0.0028\n",
      "Epoch 40/50\n",
      "30/30 [==============================] - 0s 14ms/step - loss: 0.0025\n",
      "Epoch 41/50\n",
      "30/30 [==============================] - 0s 15ms/step - loss: 0.0022\n",
      "Epoch 42/50\n",
      "30/30 [==============================] - 0s 14ms/step - loss: 0.0024\n",
      "Epoch 43/50\n",
      "30/30 [==============================] - 0s 15ms/step - loss: 0.0022\n",
      "Epoch 44/50\n",
      "30/30 [==============================] - 0s 15ms/step - loss: 0.0023\n",
      "Epoch 45/50\n",
      "30/30 [==============================] - 0s 14ms/step - loss: 0.0023\n",
      "Epoch 46/50\n",
      "30/30 [==============================] - 0s 15ms/step - loss: 0.0022\n",
      "Epoch 47/50\n",
      "30/30 [==============================] - 0s 15ms/step - loss: 0.0021\n",
      "Epoch 48/50\n",
      "30/30 [==============================] - 0s 15ms/step - loss: 0.0020\n",
      "Epoch 49/50\n",
      "30/30 [==============================] - 0s 15ms/step - loss: 0.0021\n",
      "Epoch 50/50\n",
      "30/30 [==============================] - 0s 15ms/step - loss: 0.0022\n"
     ]
    }
   ],
   "source": [
    "if (not os.path.exists(r'E:\\Data Science\\Leaning\\Courses Learning\\Sentiment and stock price prediction deep learning\\LSTM\\stock_predictions.h5')):\n",
    "    model.fit(x_train, y_train, epochs=50, batch_size=32)\n",
    "    model.save(r'E:\\Data Science\\Leaning\\Courses Learning\\Sentiment and stock price prediction deep learning\\LSTM\\stock_predictions.h5')"
   ]
  },
  {
   "cell_type": "code",
   "execution_count": 59,
   "id": "dfcf9268",
   "metadata": {},
   "outputs": [
    {
     "name": "stdout",
     "output_type": "stream",
     "text": [
      "Model: \"sequential_4\"\n",
      "_________________________________________________________________\n",
      " Layer (type)                Output Shape              Param #   \n",
      "=================================================================\n",
      " lstm_6 (LSTM)               (None, 50, 96)            37632     \n",
      "                                                                 \n",
      " dropout_3 (Dropout)         (None, 50, 96)            0         \n",
      "                                                                 \n",
      " lstm_7 (LSTM)               (None, 50, 96)            74112     \n",
      "                                                                 \n",
      " dropout_4 (Dropout)         (None, 50, 96)            0         \n",
      "                                                                 \n",
      " lstm_8 (LSTM)               (None, 96)                74112     \n",
      "                                                                 \n",
      " dropout_5 (Dropout)         (None, 96)                0         \n",
      "                                                                 \n",
      " dense (Dense)               (None, 1)                 97        \n",
      "                                                                 \n",
      "=================================================================\n",
      "Total params: 185,953\n",
      "Trainable params: 185,953\n",
      "Non-trainable params: 0\n",
      "_________________________________________________________________\n"
     ]
    }
   ],
   "source": [
    "model.summary()"
   ]
  },
  {
   "cell_type": "code",
   "execution_count": null,
   "id": "88298248",
   "metadata": {},
   "outputs": [],
   "source": []
  }
 ],
 "metadata": {
  "kernelspec": {
   "display_name": "Python 3 (ipykernel)",
   "language": "python",
   "name": "python3"
  },
  "language_info": {
   "codemirror_mode": {
    "name": "ipython",
    "version": 3
   },
   "file_extension": ".py",
   "mimetype": "text/x-python",
   "name": "python",
   "nbconvert_exporter": "python",
   "pygments_lexer": "ipython3",
   "version": "3.8.7"
  }
 },
 "nbformat": 4,
 "nbformat_minor": 5
}
